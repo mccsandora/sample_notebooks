{
 "cells": [
  {
   "cell_type": "code",
   "execution_count": 1,
   "metadata": {},
   "outputs": [
    {
     "name": "stderr",
     "output_type": "stream",
     "text": [
      "/tmp/ipykernel_3837212/3372241409.py:9: FutureWarning: You are using `torch.load` with `weights_only=False` (the current default value), which uses the default pickle module implicitly. It is possible to construct malicious pickle data which will execute arbitrary code during unpickling (See https://github.com/pytorch/pytorch/blob/main/SECURITY.md#untrusted-models for more details). In a future release, the default value for `weights_only` will be flipped to `True`. This limits the functions that could be executed during unpickling. Arbitrary objects will no longer be allowed to be loaded via this mode unless they are explicitly allowlisted by the user via `torch.serialization.add_safe_globals`. We recommend you start setting `weights_only=True` for any use case where you don't have full control of the loaded file. Please open an issue on GitHub for any issues related to this experimental feature.\n",
      "  X = torch.load('/mnt/data-a300/team_blackhole/msandora/data/X.pt')\n"
     ]
    },
    {
     "data": {
      "text/plain": [
       "torch.Size([3158083, 4096])"
      ]
     },
     "execution_count": 1,
     "metadata": {},
     "output_type": "execute_result"
    }
   ],
   "source": [
    "# load packages and data\n",
    "from collections import Counter\n",
    "import numpy as np\n",
    "import pandas as pd\n",
    "from matplotlib import pyplot as plt\n",
    "from sklearn.model_selection import train_test_split\n",
    "import torch\n",
    "import torch.nn as nn\n",
    "import torch.nn.functional as F\n",
    "\n",
    "X = torch.load('/mnt/data-a300/team_blackhole/msandora/data/X.pt')\n",
    "X.shape"
   ]
  },
  {
   "cell_type": "code",
   "execution_count": 144,
   "metadata": {},
   "outputs": [],
   "source": [
    "# data prep\n",
    "bs = 4096\n",
    "\n",
    "ds_train, ds_val = train_test_split(X[:3*10**5],test_size=.1,random_state=4)\n",
    "train_loader = torch.utils.data.DataLoader(dataset=ds_train, batch_size=bs, shuffle=True)\n",
    "val_loader = torch.utils.data.DataLoader(dataset=ds_val, batch_size=bs, shuffle=False)"
   ]
  },
  {
   "cell_type": "code",
   "execution_count": 148,
   "metadata": {},
   "outputs": [],
   "source": [
    "# define training functions\n",
    "w=1\n",
    "LT = len(train_loader.dataset)\n",
    "LV = len(val_loader.dataset)\n",
    "   \n",
    "def loss_function(x,x1,z):\n",
    "    e = torch.mean(torch.sum((x1-x)**2,dim=1))\n",
    "    #l = torch.mean(torch.sum(z**.1,dim=1)**1)    \n",
    "    #l = torch.mean(torch.linalg.norm(z,dim=1,ord=0))\n",
    "    l = torch.mean(torch.sum(torch.abs(z)>.1,dim=1).type(torch.float))\n",
    "    return e+w*l\n",
    "\n",
    "def train(epoch,verbose_step):\n",
    "    sae.train()\n",
    "    train_loss = 0\n",
    "    train_error=0\n",
    "    train_norm=0\n",
    "    for batch_idx, x in enumerate(train_loader):\n",
    "        x = x.cuda()\n",
    "        optimizer.zero_grad()\n",
    "\n",
    "        z,x1 = sae(x)\n",
    "        e = torch.mean(torch.sum((x1-x)**2,dim=1))\n",
    "        l = torch.mean(torch.sum(torch.abs(z)>.1,dim=1).type(torch.float))\n",
    "        loss = e+w*l\n",
    "    \n",
    "        loss.backward()\n",
    "        train_loss += loss.item()\n",
    "        train_error += e.item()\n",
    "        train_norm += l.item()\n",
    "        optimizer.step()\n",
    "\n",
    "    if epoch % verbose_step == 0:\n",
    "        print('epoch: {}'.format(epoch))\n",
    "        print('train loss: {:.3f}'.format(train_loss/LT),\n",
    "              'train error: {:.3f}'.format(train_error/LT),\n",
    "              'train norm: {:.3f}'.format(train_norm/LT))\n",
    "\n",
    "def val(epoch):\n",
    "    sae.eval()\n",
    "    val_loss= 0\n",
    "    val_error=0\n",
    "    val_norm=0\n",
    "    with torch.no_grad():\n",
    "        for x in val_loader:\n",
    "            x = x.cuda()\n",
    "            z,x1 = sae(x)\n",
    "\n",
    "            e = torch.mean(torch.sum((x1-x)**2,dim=1))\n",
    "            l = torch.mean(torch.sum(torch.abs(z)>.1,dim=1).type(torch.float))\n",
    "            loss = e+w*l\n",
    "            val_loss += loss.item()\n",
    "            val_error += e.item()\n",
    "            val_norm += l.item()\n",
    "\n",
    "\n",
    "    print('  val loss: {:.3f}'.format(val_loss/LV),\n",
    "          '  val error: {:.3f}'.format(val_error/LV),\n",
    "          '  val norm: {:.3f}'.format(val_norm/LV))\n",
    "    return val_error+w*val_norm\n",
    "\n",
    "def save_best(epoch, val_error, best_error):\n",
    "    if epoch>0 and val_error < best_error:\n",
    "        torch.save(sae.state_dict(),'../models/sae.pt')\n",
    "        print('saving model')\n",
    "        best_error = val_error\n",
    "    return best_error"
   ]
  },
  {
   "cell_type": "code",
   "execution_count": 149,
   "metadata": {},
   "outputs": [
    {
     "name": "stdout",
     "output_type": "stream",
     "text": [
      "# parameters: 5652896\n"
     ]
    },
    {
     "data": {
      "text/plain": [
       "SAE(\n",
       "  (Wdown): Linear(in_features=4096, out_features=200, bias=True)\n",
       "  (Wenc): Linear(in_features=200, out_features=10000, bias=True)\n",
       "  (Wdec): Linear(in_features=10000, out_features=200, bias=True)\n",
       "  (Wup): Linear(in_features=200, out_features=4096, bias=True)\n",
       ")"
      ]
     },
     "execution_count": 149,
     "metadata": {},
     "output_type": "execute_result"
    }
   ],
   "source": [
    "# define SAE model\n",
    "# the model has a squeeze unsqueeze squeeze unsqueeze architecture\n",
    "# for parameter efficiency\n",
    "#   /\\\n",
    "# \\/  \\/\n",
    "# /\\  /\\\n",
    "#   \\/\n",
    "class SAE(nn.Module):\n",
    "    def __init__(self, n_dim, n_squeeze, n_features):\n",
    "        super(SAE,self).__init__()\n",
    "        self.Wdown = nn.Linear(n_dim, n_squeeze)\n",
    "        self.Wenc = nn.Linear(n_squeeze, n_features)\n",
    "        self.Wdec = nn.Linear(n_features, n_squeeze)\n",
    "        self.Wup = nn.Linear(n_squeeze, n_dim)\n",
    "        \n",
    "    def forward(self,X):\n",
    "        Y = self.Wdown(X)\n",
    "        #Y = F.relu(Y)\n",
    "        Z = F.relu(self.Wenc(Y))\n",
    "        Y = self.Wdec(Z)\n",
    "        #Y = F.relu(Y)\n",
    "        Y = self.Wup(Y)\n",
    "        return Z, Y   \n",
    "    \n",
    "sae = SAE(4096,200,10000)\n",
    "print('# parameters:',sum([np.prod(m.shape) for n,m in sae.named_parameters()]))\n",
    "sae.cuda()\n"
   ]
  },
  {
   "cell_type": "code",
   "execution_count": 150,
   "metadata": {},
   "outputs": [
    {
     "name": "stdout",
     "output_type": "stream",
     "text": [
      "epoch: 0\n",
      "train loss: 0.826 train error: 0.260 train norm: 0.566\n",
      "  val loss: 0.758   val error: 0.208   val norm: 0.550\n",
      "epoch: 50\n",
      "train loss: 0.634 train error: 0.072 train norm: 0.561\n",
      "  val loss: 0.693   val error: 0.079   val norm: 0.614\n",
      "saving model\n",
      "epoch: 100\n",
      "train loss: 0.455 train error: 0.072 train norm: 0.383\n",
      "  val loss: 0.498   val error: 0.078   val norm: 0.419\n",
      "saving model\n",
      "epoch: 150\n",
      "train loss: 0.367 train error: 0.072 train norm: 0.295\n",
      "  val loss: 0.400   val error: 0.079   val norm: 0.321\n",
      "saving model\n",
      "epoch: 200\n",
      "train loss: 0.306 train error: 0.072 train norm: 0.234\n",
      "  val loss: 0.332   val error: 0.078   val norm: 0.254\n",
      "saving model\n",
      "epoch: 250\n",
      "train loss: 0.184 train error: 0.183 train norm: 0.001\n",
      "  val loss: 0.197   val error: 0.196   val norm: 0.001\n",
      "saving model\n",
      "epoch: 300\n",
      "train loss: 0.169 train error: 0.168 train norm: 0.001\n",
      "  val loss: 0.183   val error: 0.182   val norm: 0.002\n",
      "saving model\n",
      "epoch: 350\n",
      "train loss: 0.147 train error: 0.144 train norm: 0.004\n",
      "  val loss: 0.160   val error: 0.156   val norm: 0.004\n",
      "saving model\n",
      "epoch: 400\n",
      "train loss: 0.131 train error: 0.123 train norm: 0.008\n",
      "  val loss: 0.143   val error: 0.133   val norm: 0.009\n",
      "saving model\n",
      "epoch: 450\n",
      "train loss: 0.121 train error: 0.072 train norm: 0.049\n",
      "  val loss: 0.133   val error: 0.079   val norm: 0.054\n",
      "saving model\n",
      "epoch: 500\n",
      "train loss: 0.121 train error: 0.072 train norm: 0.049\n",
      "  val loss: 0.133   val error: 0.078   val norm: 0.055\n",
      "saving model\n"
     ]
    },
    {
     "name": "stderr",
     "output_type": "stream",
     "text": [
      "/tmp/ipykernel_3837212/2547667990.py:13: FutureWarning: You are using `torch.load` with `weights_only=False` (the current default value), which uses the default pickle module implicitly. It is possible to construct malicious pickle data which will execute arbitrary code during unpickling (See https://github.com/pytorch/pytorch/blob/main/SECURITY.md#untrusted-models for more details). In a future release, the default value for `weights_only` will be flipped to `True`. This limits the functions that could be executed during unpickling. Arbitrary objects will no longer be allowed to be loaded via this mode unless they are explicitly allowlisted by the user via `torch.serialization.add_safe_globals`. We recommend you start setting `weights_only=True` for any use case where you don't have full control of the loaded file. Please open an issue on GitHub for any issues related to this experimental feature.\n",
      "  sae.load_state_dict(torch.load('../models/sae.pt'))\n"
     ]
    },
    {
     "data": {
      "text/plain": [
       "<All keys matched successfully>"
      ]
     },
     "execution_count": 150,
     "metadata": {},
     "output_type": "execute_result"
    }
   ],
   "source": [
    "# train model\n",
    "# can get to .1% sparsity, which isn't too bad.\n",
    "verbose_step = 50\n",
    "optimizer = torch.optim.AdamW(sae.parameters())\n",
    "\n",
    "best_error = 10**800\n",
    "for epoch in range(501):\n",
    "    train(epoch,verbose_step)\n",
    "\n",
    "    if epoch % verbose_step ==0:\n",
    "        val_error = val(epoch)\n",
    "        best_error = save_best(epoch, val_error, best_error)\n",
    "sae.load_state_dict(torch.load('../models/sae.pt'))"
   ]
  },
  {
   "cell_type": "code",
   "execution_count": 17,
   "metadata": {},
   "outputs": [
    {
     "name": "stderr",
     "output_type": "stream",
     "text": [
      "/tmp/ipykernel_3837212/2525393300.py:1: FutureWarning: You are using `torch.load` with `weights_only=False` (the current default value), which uses the default pickle module implicitly. It is possible to construct malicious pickle data which will execute arbitrary code during unpickling (See https://github.com/pytorch/pytorch/blob/main/SECURITY.md#untrusted-models for more details). In a future release, the default value for `weights_only` will be flipped to `True`. This limits the functions that could be executed during unpickling. Arbitrary objects will no longer be allowed to be loaded via this mode unless they are explicitly allowlisted by the user via `torch.serialization.add_safe_globals`. We recommend you start setting `weights_only=True` for any use case where you don't have full control of the loaded file. Please open an issue on GitHub for any issues related to this experimental feature.\n",
      "  sae.load_state_dict(torch.load('../models/sae_300k.pt'))\n"
     ]
    },
    {
     "data": {
      "text/plain": [
       "<All keys matched successfully>"
      ]
     },
     "execution_count": 17,
     "metadata": {},
     "output_type": "execute_result"
    }
   ],
   "source": [
    "sae.load_state_dict(torch.load('../models/sae_300k.pt'))"
   ]
  },
  {
   "cell_type": "code",
   "execution_count": 40,
   "metadata": {},
   "outputs": [],
   "source": [
    "# get val outputs to investigate model performance\n",
    "Z = []\n",
    "with torch.no_grad():\n",
    "    for data in val_loader:\n",
    "        data = data.cuda()\n",
    "        z,x1 = sae(data)\n",
    "        zg = torch.argwhere(torch.abs(z)>.1).detach().cpu().numpy()\n",
    "        Z += pd.DataFrame(zg).groupby(0).agg(list)[1].tolist()\n",
    "        \n",
    "#Z = list(np.concatenate(Z))"
   ]
  },
  {
   "cell_type": "code",
   "execution_count": 141,
   "metadata": {},
   "outputs": [
    {
     "data": {
      "image/png": "[encoded data removed]",
      "text/plain": [
       "<Figure size 640x480 with 1 Axes>"
      ]
     },
     "metadata": {},
     "output_type": "display_data"
    }
   ],
   "source": [
    "# plots the number of features seen vs number examples\n",
    "# large vertical jumps indicate some features are still highly correlated\n",
    "Ss=[]\n",
    "s=set()\n",
    "for z in Z:\n",
    "    s = s|set(z)\n",
    "    Ss.append(len(s))\n",
    "    \n",
    "plt.plot(Ss)\n",
    "plt.xlabel('val example')\n",
    "plt.ylabel('number features seen')\n",
    "plt.show()"
   ]
  },
  {
   "cell_type": "code",
   "execution_count": 138,
   "metadata": {},
   "outputs": [
    {
     "data": {
      "image/png": "[encoded data removed]",
      "text/plain": [
       "<Figure size 640x480 with 1 Axes>"
      ]
     },
     "metadata": {},
     "output_type": "display_data"
    }
   ],
   "source": [
    "# statistics of feature distribution\n",
    "Cs=Counter()\n",
    "for z in Z:\n",
    "    Cs += Counter(z)\n",
    "    \n",
    "\n",
    "plt.plot([i[1] for i in Cs.most_common()])\n",
    "plt.yscale('log')\n",
    "plt.xlabel('rank')\n",
    "plt.ylabel('feature prevalence')\n",
    "plt.show()"
   ]
  },
  {
   "cell_type": "code",
   "execution_count": 59,
   "metadata": {},
   "outputs": [
    {
     "data": {
      "text/plain": [
       "torch.Size([325688, 4096])"
      ]
     },
     "execution_count": 59,
     "metadata": {},
     "output_type": "execute_result"
    }
   ],
   "source": [
    "# load heart failure dataset \n",
    "df1 = pd.read_pickle('/mnt/data-a300/team_blackhole/msandora/ai-service-tools/heart_failure_mistral_embeddings.pkl')\n",
    "df1 = df1.reset_index()\n",
    "Y = torch.cat(df1.embeddings.tolist()).type(torch.float)\n",
    "Y.shape"
   ]
  },
  {
   "cell_type": "code",
   "execution_count": 60,
   "metadata": {},
   "outputs": [],
   "source": [
    "# run heart failure data through model and aggregate to sentence level\n",
    "heart_loader = torch.utils.data.DataLoader(dataset=Y, batch_size=bs, shuffle=False)\n",
    "\n",
    "H = []\n",
    "with torch.no_grad():\n",
    "    for data in heart_loader:\n",
    "        data = data.cuda()\n",
    "        z,x1 = sae(data)\n",
    "        zg = torch.argwhere(torch.abs(z)>.1).detach().cpu().numpy()\n",
    "        H += pd.DataFrame(zg).groupby(0).agg(list)[1].tolist()\n",
    "        \n",
    "\n",
    "dindex = df1.apply(lambda D: [D['index']]*D.embeddings.shape[0],axis=1).sum()\n",
    "dfH = pd.DataFrame(zip(dindex,H))\n",
    "dfH[1] = dfH[1].apply(set)\n",
    "Hsent = dfH.groupby(0).agg(lambda x: set.union(*x))[1].tolist()"
   ]
  },
  {
   "cell_type": "code",
   "execution_count": 142,
   "metadata": {},
   "outputs": [
    {
     "data": {
      "image/png": "[encoded data removed]",
      "text/plain": [
       "<Figure size 640x480 with 1 Axes>"
      ]
     },
     "metadata": {},
     "output_type": "display_data"
    }
   ],
   "source": [
    "# number of features seen vs number of examples\n",
    "hs=[]\n",
    "newlies=[]\n",
    "s=set()\n",
    "for k,z in enumerate(Hsent):\n",
    "    if len(set(z)-s)>0:\n",
    "        newlies.append(k)\n",
    "    s = s|set(z)\n",
    "    hs.append(len(s))\n",
    "    \n",
    "plt.plot(hs)\n",
    "plt.xlabel('dataset example')\n",
    "plt.ylabel('number features seen')\n",
    "plt.show()"
   ]
  },
  {
   "cell_type": "code",
   "execution_count": 97,
   "metadata": {},
   "outputs": [
    {
     "data": {
      "text/plain": [
       "52"
      ]
     },
     "execution_count": 97,
     "metadata": {},
     "output_type": "execute_result"
    }
   ],
   "source": [
    "len(newlies)"
   ]
  },
  {
   "cell_type": "code",
   "execution_count": 105,
   "metadata": {},
   "outputs": [
    {
     "data": {
      "text/plain": [
       "['Lungs and Pleural Spaces: Mild pulmonary vascular congestion and a small right pleural effusion appears stable.',\n",
       " 'Lungs/Pleural Spaces: Patchy interstitial pneumonitis/edema bilaterally without significant change.',\n",
       " 'Lungs/Pleural Spaces: Increased pulmonary vascular congestion.',\n",
       " 'Heart/Mediastinum: Mild to moderate prominence of the bilateral interstitial markings/pulmonary vascular congestion.',\n",
       " ' Diffuse airspace disease with a differential diagnosis which includes ARDS, edema and/or pneumonia.',\n",
       " ' Findings suggest worsening congestive heart failure.',\n",
       " 'Lungs and Pleural Spaces: Vascular congestion persists.',\n",
       " 'Lungs and Pleural Spaces: Moderate pulmonary vascular congestion, slightly increased since previously.',\n",
       " 'Lungs and Pleural Spaces: Previously noted pulmonary vascular congestion has markedly improved.',\n",
       " 'Lungs and Pleural Spaces: Questionable mild\\npulmonary vascular congestion']"
      ]
     },
     "execution_count": 105,
     "metadata": {},
     "output_type": "execute_result"
    }
   ],
   "source": [
    "# 10 random sentences from dataset\n",
    "df1.sample(10).sentence_text.tolist()"
   ]
  },
  {
   "cell_type": "code",
   "execution_count": 143,
   "metadata": {},
   "outputs": [
    {
     "data": {
      "text/plain": [
       "[' Findings could represent early pulmonary edema.',\n",
       " ' CONGESTIVE HEART FAILURE',\n",
       " \"Lungs/Pleural Spaces: Mild interstitial pulmonary edema is noted which is exacerbated by the poor inspiration and the patient's body habitus.\",\n",
       " 'Abdominal/Pelvic Wall: Diffuse soft tissue edema and muscle atrophy.',\n",
       " 'Lungs: Alveolar edema on the background of air trapping is also a consideration. [SEP] Lungs: The denser areas of the lung parenchyma may be due to alveolar edema or the effects of diminished lung volumes with air trapping accounting for the areas of relative decreased parenchymal attenuation. [SEP] Mediastinum: There is edema in the mediastinal fat. [SEP]  Others could be due to alveolar edema or air trapping, a combination thereof is of concern.',\n",
       " ' Findings are nonspecific but may be seen with pulmonary edema or other interstitial process',\n",
       " ' More vascular congestion is noted than previously. [SEP]  Increasing vascular congestion.',\n",
       " 'Lung fields: There are redemonstrated bilateral diffuse coarse prominence of interstitial markings possibly representing fibrotic changes with superimposed interstitial edema; however, new from the prior study there is more confluent opacification within the right lower lung which may represent superimposed infiltrate. [SEP]  New confluent opacification within the right lower lung which may represent infiltrate superimposed on previously noted diffuse coarse prominent interstitial markings representing fibrotic changes versus interstitial pulmonary edema.',\n",
       " 'Lungs and Pleural Spaces: There is increasing accentuation of the central bronchovascular markings and indistinctness of pulmonary vessels suggesting worsening vascular congestion.',\n",
       " ' Findings could be related to diffuse infection, DAD/ALI, or pulmonary edema, among many others.']"
      ]
     },
     "execution_count": 143,
     "metadata": {},
     "output_type": "execute_result"
    }
   ],
   "source": [
    "# 10 sentences exhibiting novelty from dataset\n",
    "# look to be more diverse than random sentences\n",
    "df1.iloc[newlies].sample(10).sentence_text.tolist()"
   ]
  },
  {
   "cell_type": "code",
   "execution_count": 106,
   "metadata": {},
   "outputs": [],
   "source": [
    "# define feature counter for heart failure dataset\n",
    "HC=Counter()\n",
    "for z in Hsent:\n",
    "    HC += Counter(z)\n",
    "    \n",
    "[(h,c) for h,c in HC.most_common() if c==24]"
   ]
  },
  {
   "cell_type": "code",
   "execution_count": 126,
   "metadata": {},
   "outputs": [
    {
     "name": "stdout",
     "output_type": "stream",
     "text": [
      "Lungs and Pleural Spaces: There is increasing accentuation of the central bronchovascular markings and indistinctness of pulmonary vessels suggesting worsening vascular congestion.\n",
      "---\n",
      " There has been interval development of accentuation of central bronchovascular markings and peribronchial cuffing which may relate to developing edema/bronchitis.\n",
      "---\n",
      "Lungs and Pleural Spaces: There are increasing perihilar airspace opacities, right greater than left, compatible with pulmonary edema pattern. [SEP] Lungs and Pleural Spaces: There is indistinctness and prominence of the pulmonary vessels indicating pulmonary vascular congestion.\n",
      "---\n",
      "Lungs/Pleural Spaces: There are increased interstitial markings throughout both lungs which may be related to underlying interstitial edema pattern [SEP] Lungs/Pleural Spaces: There is accentuation of the central bronchovascular markings and indistinctness pulmonary vessels compatible with underlying pulmonary vascular congestion.\n",
      "---\n"
     ]
    }
   ],
   "source": [
    "# are features interpretable? spot check/cherry pick\n",
    "for s in df1.iloc[[k for k,h in enumerate(Hsent) if 4659 in h]].sentence_text.tolist()[:4]:\n",
    "    print(s)\n",
    "    print('---')"
   ]
  },
  {
   "cell_type": "code",
   "execution_count": 128,
   "metadata": {},
   "outputs": [
    {
     "name": "stdout",
     "output_type": "stream",
     "text": [
      " There has been interval development of accentuation of central bronchovascular markings and peribronchial cuffing which may relate to developing edema/bronchitis.\n",
      "---\n",
      "Lungs/Pleural Spaces: Mild interstitial pulmonary edema is noted which is exacerbated by the poor inspiration and the patient's body habitus.\n",
      "---\n",
      " Both findings could be accounted for by pulmonary edema. [SEP]  Groundglass opacities could represent pulmonary edema, hemorrhage, infection or other inflammatory process.\n",
      "---\n",
      "Lungs/Pleural Spaces: Mild pulmonary vascular congestion is again noted which is exacerbated by the poor inspiration and the patient's body habitus.\n",
      "---\n"
     ]
    }
   ],
   "source": [
    "# are features interpretable? spot check/cherry pick\n",
    "for s in df1.iloc[[k for k,h in enumerate(Hsent) if 4452 in h]].sentence_text.tolist()[:4]:\n",
    "    print(s)\n",
    "    print('---')"
   ]
  },
  {
   "cell_type": "code",
   "execution_count": 130,
   "metadata": {},
   "outputs": [
    {
     "name": "stdout",
     "output_type": "stream",
     "text": [
      "Lungs: Alveolar edema on the background of air trapping is also a consideration. [SEP] Lungs: The denser areas of the lung parenchyma may be due to alveolar edema or the effects of diminished lung volumes with air trapping accounting for the areas of relative decreased parenchymal attenuation. [SEP] Mediastinum: There is edema in the mediastinal fat. [SEP]  Others could be due to alveolar edema or air trapping, a combination thereof is of concern.\n",
      "---\n",
      "Lungs: Mosaic attenuation, which can be seen in air trapping, subsegmental atelectasis, or edema. [SEP]  Bilateral pulmonary opacities, which may represent subsegmental atelectasis, edema, or aspiration/pneumonia.\n",
      "---\n",
      " Opacities along both lung bases, and along the central lung zones, bilaterally are decreased from previous, which may correspond to atelectasis, pulmonary edema, or possibly to infiltrates.\n",
      "---\n",
      " Patchy opacities diffusely throughout both lungs most suggestive of pulmonary edema, less likely an infectious etiology.\n",
      "---\n"
     ]
    }
   ],
   "source": [
    "# are features interpretable? spot check/cherry pick\n",
    "for s in df1.iloc[[k for k,h in enumerate(Hsent) if 975 in h]].sentence_text.tolist()[:4]:\n",
    "    print(s)\n",
    "    print('---')"
   ]
  }
 ],
 "metadata": {
  "kernelspec": {
   "display_name": "Python 3 (ipykernel)",
   "language": "python",
   "name": "python3"
  },
  "language_info": {
   "codemirror_mode": {
    "name": "ipython",
    "version": 3
   },
   "file_extension": ".py",
   "mimetype": "text/x-python",
   "name": "python",
   "nbconvert_exporter": "python",
   "pygments_lexer": "ipython3",
   "version": "3.10.5"
  }
 },
 "nbformat": 4,
 "nbformat_minor": 4
}
